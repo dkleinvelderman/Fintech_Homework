{
 "cells": [
  {
   "cell_type": "code",
   "execution_count": 1,
   "metadata": {},
   "outputs": [],
   "source": [
    "from constants import *\n",
    "import subprocess\n",
    "import json\n",
    "import os\n",
    "from dotenv import load_dotenv\n",
    "from web3 import Web3\n",
    "from web3.middleware import geth_poa_middleware\n",
    "from web3.gas_strategies.time_based import medium_gas_price_strategy\n",
    "from bit import wif_to_key, PrivateKeyTestnet\n",
    "from bit.network import NetworkAPI\n",
    "from eth_account import Account"
   ]
  },
  {
   "cell_type": "code",
   "execution_count": 2,
   "metadata": {},
   "outputs": [
    {
     "data": {
      "text/plain": [
       "True"
      ]
     },
     "execution_count": 2,
     "metadata": {},
     "output_type": "execute_result"
    }
   ],
   "source": [
    "load_dotenv()"
   ]
  },
  {
   "cell_type": "code",
   "execution_count": 71,
   "metadata": {},
   "outputs": [],
   "source": [
    "mnemonic = os.getenv('MNEMONIC')"
   ]
  },
  {
   "cell_type": "code",
   "execution_count": 4,
   "metadata": {},
   "outputs": [],
   "source": [
    "w3 = Web3(Web3.HTTPProvider(\"http://127.0.0.1:8545\"))\n",
    "w3.middleware_onion.inject(geth_poa_middleware, layer =0)\n",
    "w3.eth.setGasPriceStrategy(medium_gas_price_strategy)"
   ]
  },
  {
   "cell_type": "code",
   "execution_count": 5,
   "metadata": {},
   "outputs": [],
   "source": [
    "def derive_wallets (mnemonic, coin, num):\n",
    "    command = f' php derive -g --mnemonic=\"{mnemonic}\" --coin=\"{coin}\" --numderive=\"{num}\" --cols=index,path,address,privkey,pubkey,pubkeyhash,xprv,xpub --format=json'\n",
    "    p = subprocess.Popen(command, stdout=subprocess.PIPE, shell=True)\n",
    "    (output, err) = p.communicate()\n",
    "    p_status = p.wait()\n",
    "    keys = json.loads(output)\n",
    "    return keys"
   ]
  },
  {
   "cell_type": "code",
   "execution_count": 67,
   "metadata": {},
   "outputs": [
    {
     "data": {
      "text/plain": [
       "[{'index': 0,\n",
       "  'path': \"m/44'/60'/0'/0/0\",\n",
       "  'address': '0x7D2FD5EF11dd5E35366e98C41Bda0755dad82Cfd',\n",
       "  'privkey': '0x68ef5586a2a723d3de0bc701662880ad9afdad59ce025ebe744e53f39611dec6',\n",
       "  'pubkey': '0345364da40c4e086ec77240c6ec2a97885417589b9971256b4b51457f415c2489',\n",
       "  'pubkeyhash': 'a1341d5b8a67044447294392658a40e5eb88562e',\n",
       "  'xprv': 'xprvA3VXDjGsidsM5optvzrJWquv3x1TiujrTBHNNyQzMRfbq556suuMqZvoGb44ndosADgYeM45j5u9XrUtPNhpGtAkjKoLSUiBV1sYcpjH7KV',\n",
       "  'xpub': 'xpub6GUsdEomZ1ReJHuN32PJsyrebyqx8NThpQCyBMpbumCahsQFRTDcPNFH7skqv4f4ykD9SqtDZUn1JnAWmFuVQWr5sXZAyHgFYD1N6DM8bD7'},\n",
       " {'index': 1,\n",
       "  'path': \"m/44'/60'/0'/0/1\",\n",
       "  'address': '0xF4f5cf1E4547D66e68e6d8aBBdB0F19A8610eA1a',\n",
       "  'privkey': '0x8dba436562553911b80cd056bd55cbf013f2c41330636929eeb777c9b09c0f34',\n",
       "  'pubkey': '02193512cd482b04b3c742d0bcfef37d2480907b9fb015a995a83d0e56d4b25593',\n",
       "  'pubkeyhash': 'f12c07006882a8895e489f86d822b4d67da2c58b',\n",
       "  'xprv': 'xprvA3VXDjGsidsM7b46cWsRL2mEa2dH2LbTCiHMjBHDTYXJLSff1bnsdjsAAWiePPpeSBTq1vwsL4cmwthhHXdarGWXHN5SwtBSJ2dhTnKuf1A',\n",
       "  'xpub': 'xpub6GUsdEomZ1ReL58ZiYQRhAhy84TmRoKJZwCxXZgq1t4HDEzoZ978BYBe1ks6UW5VR1LnTK2PUKN7n2sqAKZbk2DvZN9KZwBDsvE4YFktkVE'},\n",
       " {'index': 2,\n",
       "  'path': \"m/44'/60'/0'/0/2\",\n",
       "  'address': '0x119b1C6A405bb24227E4e6A5192Ff356EF47A84d',\n",
       "  'privkey': '0x2d6411ef38a5b8f579d28c822a899f6f996168b694c49c11eb369219345781fc',\n",
       "  'pubkey': '0235303aea14972a28dc78c6269e71d7e20f5e15d419ef0c5c5488f6089bfbd970',\n",
       "  'pubkeyhash': '642163ad7d444b7c1c1ac6f69b7204a717b59bfd',\n",
       "  'xprv': 'xprvA3VXDjGsidsM9AhLTraudg8iJ9dfe5EABiLWudcfmmYXzsM7f5SubmhyLhRTwz3DcvkQem1kWc2op9oydLULNiypPPZ1xjXSeuVCQsiuJZo',\n",
       "  'xpub': 'xpub6GUsdEomZ1ReMemoZt7uzp5SrBUA3Xx1YwG7i22HL75WsfgGCcmA9a2TBxWfZsSFFKzFkcu3HcY6QPuucuZTvQ4hYKePnzf9qpzG3fewhk3'}]"
      ]
     },
     "execution_count": 67,
     "metadata": {},
     "output_type": "execute_result"
    }
   ],
   "source": [
    "derive_wallets (mnemonic, ETH, 3)"
   ]
  },
  {
   "cell_type": "code",
   "execution_count": 31,
   "metadata": {},
   "outputs": [],
   "source": [
    "coins={'eth':derive_wallets(mnemonic,ETH,3), 'btc-test':derive_wallets(mnemonic,BTCTEST,3)}"
   ]
  },
  {
   "cell_type": "code",
   "execution_count": 64,
   "metadata": {},
   "outputs": [],
   "source": [
    "eth_pk=coins['eth'][0]['privkey']\n",
    "btc_pk=coins['btc-test'][0]['privkey']"
   ]
  },
  {
   "cell_type": "code",
   "execution_count": 65,
   "metadata": {},
   "outputs": [],
   "source": [
    "def priv_key_account(coin, priv_key):\n",
    "    if coin == ETH:\n",
    "        return Account.privateKeyToAccount(priv_key)\n",
    "    if coin == BTCTEST:\n",
    "        return PrivateKeyTestnet(priv_key)"
   ]
  },
  {
   "cell_type": "code",
   "execution_count": 66,
   "metadata": {},
   "outputs": [],
   "source": [
    "eth_key = priv_key_account(ETH, eth_pk)\n",
    "btc_key = priv_key_account(BTCTEST, btc_pk)"
   ]
  },
  {
   "cell_type": "markdown",
   "metadata": {},
   "source": [
    "**BITCOIN TRANSACTION**"
   ]
  },
  {
   "cell_type": "code",
   "execution_count": 58,
   "metadata": {},
   "outputs": [],
   "source": [
    "def create_trx(coin, account, recipient, amount):\n",
    "    if coin ==ETH:\n",
    "        gasEstimate = w3.eth.estimateGas(\n",
    "            {\"from\": account.address, \"to\": recipient, \"value\": amount}\n",
    "        )\n",
    "        trx_data = {\n",
    "            \"to\": recipient,\n",
    "            \"from\": account.address,\n",
    "            \"value\": amount,\n",
    "            \"gasPrice\": w3.eth.gasPrice,\n",
    "            \"gas\": gasEstimate,\n",
    "            \"nonce\": w3.eth.getTransactionCount(account.address)\n",
    "        }\n",
    "        return trx_data\n",
    "\n",
    "    if coin == BTCTEST:\n",
    "        return PrivateKeyTestnet.prepare_transaction(account.address, [(recipient, amount, BTC)])"
   ]
  },
  {
   "cell_type": "code",
   "execution_count": 61,
   "metadata": {},
   "outputs": [],
   "source": [
    "trx = create_trx(BTCTEST, btc_key, 'n2F5gVRdgGvnvb4yTaPhBnsoCYnu7KVTBP', 0.000004)"
   ]
  },
  {
   "cell_type": "raw",
   "metadata": {},
   "source": [
    "trx"
   ]
  },
  {
   "cell_type": "code",
   "execution_count": 62,
   "metadata": {},
   "outputs": [],
   "source": [
    "def send_tx(coin,account, recipient, amount):\n",
    "    tx = create_trx(coin,account,recipient,amount)\n",
    "    signed_tx = account.sign_transaction(tx)\n",
    "    if coin == ETH:\n",
    "        result = w3.eth.sendRawTransaction(signed_tx.rawTransaction)\n",
    "        return result.hex()\n",
    "    elif coin == BTCTEST:\n",
    "        return NetworkAPI.broadcast_tx_testnet(signed_tx)"
   ]
  },
  {
   "cell_type": "code",
   "execution_count": 63,
   "metadata": {},
   "outputs": [],
   "source": [
    "send_tx(BTCTEST, btc_key, 'n2F5gVRdgGvnvb4yTaPhBnsoCYnu7KVTBP', 0.000004)"
   ]
  },
  {
   "cell_type": "markdown",
   "metadata": {},
   "source": [
    "**ETHER TRANSACTION**"
   ]
  },
  {
   "cell_type": "code",
   "execution_count": 68,
   "metadata": {},
   "outputs": [],
   "source": [
    "trx = create_trx(ETH, eth_key, '0xF4f5cf1E4547D66e68e6d8aBBdB0F19A8610eA1a', 31)"
   ]
  },
  {
   "cell_type": "code",
   "execution_count": 69,
   "metadata": {},
   "outputs": [
    {
     "data": {
      "text/plain": [
       "{'to': '0xF4f5cf1E4547D66e68e6d8aBBdB0F19A8610eA1a',\n",
       " 'from': '0x7D2FD5EF11dd5E35366e98C41Bda0755dad82Cfd',\n",
       " 'value': 31,\n",
       " 'gasPrice': 20000000000,\n",
       " 'gas': 21000,\n",
       " 'nonce': 0}"
      ]
     },
     "execution_count": 69,
     "metadata": {},
     "output_type": "execute_result"
    }
   ],
   "source": [
    "trx"
   ]
  },
  {
   "cell_type": "code",
   "execution_count": 70,
   "metadata": {},
   "outputs": [
    {
     "data": {
      "text/plain": [
       "'0x84b1cfffd4b2cbb674c467da82d00757cebf7787ace7d56d4d2e4a459880ac0a'"
      ]
     },
     "execution_count": 70,
     "metadata": {},
     "output_type": "execute_result"
    }
   ],
   "source": [
    "send_tx(ETH, eth_key, '0xF4f5cf1E4547D66e68e6d8aBBdB0F19A8610eA1a', 31)"
   ]
  },
  {
   "cell_type": "code",
   "execution_count": null,
   "metadata": {},
   "outputs": [],
   "source": []
  }
 ],
 "metadata": {
  "kernelspec": {
   "display_name": "Python 3",
   "language": "python",
   "name": "python3"
  },
  "language_info": {
   "codemirror_mode": {
    "name": "ipython",
    "version": 3
   },
   "file_extension": ".py",
   "mimetype": "text/x-python",
   "name": "python",
   "nbconvert_exporter": "python",
   "pygments_lexer": "ipython3",
   "version": "3.7.7"
  }
 },
 "nbformat": 4,
 "nbformat_minor": 4
}
